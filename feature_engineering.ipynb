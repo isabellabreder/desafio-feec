{
 "cells": [
  {
   "cell_type": "markdown",
   "metadata": {},
   "source": [
    "# Feature engineering\n",
    "\n",
    "Here we are going to dig for new features that might be relevant for the problem. "
   ]
  },
  {
   "cell_type": "code",
   "execution_count": 1,
   "metadata": {},
   "outputs": [],
   "source": [
    "import pandas as pd\n",
    "import numpy as np\n",
    "import matplotlib.pyplot as plt\n",
    "import seaborn as sns\n",
    "import warnings\n",
    "pd.plotting.register_matplotlib_converters()\n",
    "warnings.simplefilter(action='ignore', category=FutureWarning)"
   ]
  },
  {
   "cell_type": "code",
   "execution_count": 4,
   "metadata": {},
   "outputs": [],
   "source": [
    "c1 = pd.read_csv('./Data/c1.csv', index_col='cycle')\n",
    "c2 = pd.read_csv('./Data/c2.csv', index_col='cycle')\n",
    "c3 = pd.read_csv('./Data/c3.csv', index_col='cycle')\n",
    "c4 = pd.read_csv('./Data/c4.csv', index_col='cycle')"
   ]
  },
  {
   "cell_type": "markdown",
   "metadata": {},
   "source": [
    "#### Total capacity of the battery"
   ]
  },
  {
   "cell_type": "markdown",
   "metadata": {},
   "source": [
    "The total capacity of the battery is given as Charge Capacity + Discharge Capacity"
   ]
  },
  {
   "cell_type": "code",
   "execution_count": 6,
   "metadata": {},
   "outputs": [],
   "source": [
    "c1['Q'] = c1['QC'] + c1['QD']\n",
    "c2['Q'] = c2['QC'] + c2['QD']\n",
    "c3['Q'] = c3['QC'] + c3['QD']\n",
    "c4['Q'] = c4['QC'] + c4['QD']"
   ]
  },
  {
   "cell_type": "markdown",
   "metadata": {},
   "source": [
    "#### Battery SOH (State of Health)"
   ]
  },
  {
   "cell_type": "code",
   "execution_count": 18,
   "metadata": {},
   "outputs": [],
   "source": [
    "c1['SOH'] = 0\n",
    "c2['SOH'] = 0\n",
    "c3['SOH'] = 0\n",
    "c4['SOH'] = 0"
   ]
  },
  {
   "cell_type": "code",
   "execution_count": 33,
   "metadata": {},
   "outputs": [],
   "source": [
    "for idx, row in c1.iterrows():\n",
    "    c1.loc[idx, 'SOH'] = ((c1.loc[idx, 'Q'])/(c1.iloc[1]['Q']))*100\n",
    "for idx, row in c2.iterrows():\n",
    "    c2.loc[idx, 'SOH'] = ((c2.loc[idx, 'Q'])/(c2.iloc[1]['Q']))*100\n",
    "for idx, row in c3.iterrows():\n",
    "    c3.loc[idx, 'SOH'] = ((c3.loc[idx, 'Q'])/(c3.iloc[1]['Q']))*100\n",
    "for idx, row in c4.iterrows():\n",
    "    c4.loc[idx, 'SOH'] = ((c4.loc[idx, 'Q'])/(c4.iloc[1]['Q']))*100"
   ]
  },
  {
   "cell_type": "markdown",
   "metadata": {},
   "source": [
    "For the next steps, it would be recommended to derive other new features, this were just examples."
   ]
  },
  {
   "cell_type": "code",
   "execution_count": 34,
   "metadata": {},
   "outputs": [],
   "source": [
    "c1.to_csv(r'./Data/c1_fe.csv')\n",
    "c2.to_csv(r'./Data/c2_fe.csv')\n",
    "c3.to_csv(r'./Data/c3_fe.csv')\n",
    "c4.to_csv(r'./Data/c4_fe.csv')"
   ]
  }
 ],
 "metadata": {
  "kernelspec": {
   "display_name": "base",
   "language": "python",
   "name": "python3"
  },
  "language_info": {
   "codemirror_mode": {
    "name": "ipython",
    "version": 3
   },
   "file_extension": ".py",
   "mimetype": "text/x-python",
   "name": "python",
   "nbconvert_exporter": "python",
   "pygments_lexer": "ipython3",
   "version": "3.11.4"
  },
  "orig_nbformat": 4
 },
 "nbformat": 4,
 "nbformat_minor": 2
}
